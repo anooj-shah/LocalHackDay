{
 "cells": [
  {
   "cell_type": "markdown",
   "metadata": {},
   "source": [
    "# Houston Local Hack Day at University fo Houston PGH 232\n",
    "### Team: Anooj Shah, Lucas Atayde, Kari Burt, Jennifer Cai"
   ]
  },
  {
   "cell_type": "markdown",
   "metadata": {},
   "source": [
    "## Introduction and Motivation\n",
    "\n",
    "The team decided to use sentiment analysis on user input. We were aware of what sentiment analysis was, but we are new to NPL and our first attempt at implementing in python. I went and looked up more information about NLP from https://en.wikipedia.org/wiki/Sentiment_analysis Some things I didn't expect were \"Emoji Sentiment Ranking\" which makes sense but I would not have thought of it without reading about it\n",
    "\n",
    "The resources we used include the following\n",
    "- https://en.wikipedia.org/wiki/Sentiment_analysis\n",
    "- https://textblob.readthedocs.io/en/dev/quickstart.html#quickstart\n",
    "- https://planspace.org/20150607-textblob_sentiment/\n",
    "- https://www.lexalytics.com/technology/sentiment\n",
    "\n",
    "### Early Challenges and Binder\n",
    "\n",
    "Our team is novice to collaborating via Github. We had some initial challenge sharing code. As always first time setup is a challenge and one of our concerns was reproducability / deployment. To compensate I tried to deploy using binder for the first time. My strategy to share is to fork our main repo, https://github.com/anooj-shah/localhack, and then submit pull requests. This notebook was uploaded to binder for easier integration.\n",
    "\n",
    "### The Project and the Plan\n",
    "\n",
    "Our team wanted to develop a mental health application. In this step I am reading a csv of timestamps and text as a list. This information is being passed through TextBlob to run sentiment analysis. The output is written to a CSV for processing by data visualization team.\n",
    "\n",
    "**Meet the Team**\n",
    "- **Lucas** has been building a Python app using the Twilio API\n",
    "- **Jennifer** has been working on using TextBlob to do sentiment analysis and write to CSV\n",
    "- **Anooj** is managing our Github and taking care of the visualizations\n",
    "- **Kari** is putting it all together with her web development skills\n",
    "\n",
    "#### A quick explanation of TextBlob from https://planspace.org/20150607-textblob_sentiment/\n",
    "\n",
    "Each word in the lexicon has scores for:\n",
    " 1. polarity: negative vs. positive    (-1.0 => +1.0)\n",
    " 2. subjectivity: objective vs. subjective (+0.0 => +1.0)"
   ]
  },
  {
   "cell_type": "markdown",
   "metadata": {},
   "source": [
    "## Sentiment Analysis with Python Notebook\n",
    "\n",
    "In the planning stages, we decided that Lucas would generate a CSV of two columns, time stamp and user input string. I generated a dummy_input.csv for testing using various random news articles and Reddit posts. Lucas also contributed dummy input by using pop songs as quality control. In this step we read the CSV input and parse it to the TextBlob library.\n"
   ]
  },
  {
   "cell_type": "code",
   "execution_count": 50,
   "metadata": {
    "scrolled": false
   },
   "outputs": [],
   "source": [
    "from textblob import TextBlob\n",
    "\n",
    "#Initialize the lists\n",
    "\n",
    "output_list = []\n",
    "QC_list = []\n",
    "\n",
    "#Open the CSV of input\n",
    "\n",
    "infile = open(\"feelings.csv\", 'r')\n",
    "\n",
    "#Read every line in the input\n",
    "#Process data, the date is transformed to mm/dd/yyyy and only hour is sliced\n",
    "#Place into the respective list\n",
    "\n",
    "for line in infile:\n",
    "    data = line.split(',')\n",
    "    full_time = data[0]\n",
    "    date = (full_time[5:7] + \"-\" + full_time[9:10] + \"-\" + full_time[:4])\n",
    "    hour = (full_time[11:13])\n",
    "    blob = TextBlob(data[1])\n",
    "    output_list.append((date, hour, blob.sentiment.polarity))\n",
    "    QC_list.append((blob.sentiment, data[1]))\n",
    "infile.close()\n",
    "\n",
    "#Write the output to a csv file\n",
    "#Columns are Date, Time, and Sentiment Score\n",
    "#This CSV is used for the visualization on the web interface\n",
    "outfile = open(\"output.csv\", 'w')\n",
    "for item in output_list:\n",
    "    outfile.write(item[0]+\",\"+item[1]+\",\"+str(item[2])+\"\\n\")\n",
    "outfile.close()\n",
    "\n",
    "#Wirte a file for QC\n",
    "#This is the Sentiment Polarity (-1 to 1), Subjectivity, and the full text\n",
    "outfile = open(\"QC_output.csv\", 'w')\n",
    "for item in QC_list:\n",
    "    outfile.write(str(item[0])+\",\"+str(item[1])+\"\\n\")\n",
    "outfile.close()\n",
    "\n"
   ]
  },
  {
   "cell_type": "markdown",
   "metadata": {},
   "source": [
    "## Things we learned\n",
    "\n",
    "- **Lucas** has evolved into a GitHub God\n",
    "- **Jennifer** introduced the team to Jupyter Notebooks, but she is also new to deploying on Binder\n",
    "\n",
    "We all learned a little bit about teamwork 😄"
   ]
  },
  {
   "cell_type": "code",
   "execution_count": null,
   "metadata": {},
   "outputs": [],
   "source": []
  }
 ],
 "metadata": {
  "kernelspec": {
   "display_name": "Python 3",
   "language": "python",
   "name": "python3"
  },
  "language_info": {
   "codemirror_mode": {
    "name": "ipython",
    "version": 3
   },
   "file_extension": ".py",
   "mimetype": "text/x-python",
   "name": "python",
   "nbconvert_exporter": "python",
   "pygments_lexer": "ipython3",
   "version": "3.6.6"
  }
 },
 "nbformat": 4,
 "nbformat_minor": 2
}
